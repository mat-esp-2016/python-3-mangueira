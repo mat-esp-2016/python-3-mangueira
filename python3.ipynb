{
 "cells": [
  {
   "cell_type": "markdown",
   "metadata": {},
   "source": [
    "Abaixo faremos e testaremos uma função de anos e meses que retorna para anos decimais"
   ]
  },
  {
   "cell_type": "code",
   "execution_count": 19,
   "metadata": {
    "collapsed": false
   },
   "outputs": [],
   "source": [
    "def ano_decimal(anos, meses):\n",
    "    return ((meses - 1)/12 + anos)\n",
    "    assert type(anos) == int, 'Anos deve ser um número inteiro'\n",
    "    assert type(meses) == int, 'Meses deve ser um número inteiro'"
   ]
  },
  {
   "cell_type": "code",
   "execution_count": 20,
   "metadata": {
    "collapsed": false
   },
   "outputs": [
    {
     "data": {
      "text/plain": [
       "2016.25"
      ]
     },
     "execution_count": 20,
     "metadata": {},
     "output_type": "execute_result"
    }
   ],
   "source": [
    "ano_decimal (2016,4)"
   ]
  },
  {
   "cell_type": "code",
   "execution_count": 21,
   "metadata": {
    "collapsed": false
   },
   "outputs": [],
   "source": [
    "import numpy as np"
   ]
  },
  {
   "cell_type": "code",
   "execution_count": 28,
   "metadata": {
    "collapsed": false
   },
   "outputs": [],
   "source": [
    "dados = np.loadtxt('dados/0.80S-49.02W-TAVG-Trend.txt', comments='%')\n",
    "anos = dados[:, 0]\n",
    "meses = dados[:, 1]"
   ]
  },
  {
   "cell_type": "markdown",
   "metadata": {},
   "source": [
    "Faremos uma funcao de ano decimal x anomalia de temperatura (dados de temperatura), retornando os anos decimais, a anomalia anual, anomalia de 10 anos e sua incerteza. "
   ]
  },
  {
   "cell_type": "code",
   "execution_count": 41,
   "metadata": {
    "collapsed": false
   },
   "outputs": [],
   "source": [
    "def temp(dados_de_temperatura):\n",
    "    ano_decimal = (meses - 1)/12 + anos\n",
    "    anomalia_temperatura = dados[:, 4]\n",
    "    anomalia_dez = dados[:, 8]\n",
    "    fill_between = ano_decimal, anomalia_temperatura + 2, anomalia_temperatura - 2  \n",
    "    return (ano_decimal,anomalia_temperatura, anomalia_dez, fill_between)"
   ]
  },
  {
   "cell_type": "code",
   "execution_count": 39,
   "metadata": {
    "collapsed": false
   },
   "outputs": [],
   "source": []
  },
  {
   "cell_type": "code",
   "execution_count": null,
   "metadata": {
    "collapsed": false
   },
   "outputs": [],
   "source": []
  },
  {
   "cell_type": "code",
   "execution_count": null,
   "metadata": {
    "collapsed": true
   },
   "outputs": [],
   "source": []
  }
 ],
 "metadata": {
  "kernelspec": {
   "display_name": "Python [Root]",
   "language": "python",
   "name": "Python [Root]"
  },
  "language_info": {
   "codemirror_mode": {
    "name": "ipython",
    "version": 3
   },
   "file_extension": ".py",
   "mimetype": "text/x-python",
   "name": "python",
   "nbconvert_exporter": "python",
   "pygments_lexer": "ipython3",
   "version": "3.5.2"
  }
 },
 "nbformat": 4,
 "nbformat_minor": 0
}
